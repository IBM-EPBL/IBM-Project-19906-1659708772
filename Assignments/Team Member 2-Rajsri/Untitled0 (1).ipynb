{
  "nbformat": 4,
  "nbformat_minor": 0,
  "metadata": {
    "colab": {
      "provenance": []
    },
    "kernelspec": {
      "name": "python3",
      "display_name": "Python 3"
    },
    "language_info": {
      "name": "python"
    }
  },
  "cells": [
    {
      "cell_type": "code",
      "source": [
        "{\n",
        "  \"nbformat\": 4,\n",
        "  \"nbformat_minor\": 0,\n",
        "  \"metadata\": {\n",
        "    \"colab\": {\n",
        "      \"provenance\": []\n",
        "    },\n",
        "    \"kernelspec\": {\n",
        "      \"name\": \"python3\",\n",
        "      \"display_name\": \"Python 3\"\n",
        "    },\n",
        "    \"language_info\": {\n",
        "      \"name\": \"python\"\n",
        "    }\n",
        "  },\n",
        "  \"cells\": [\n",
        "    {\n",
        "      \"cell_type\": \"code\",\n",
        "      \"execution_count\": null,\n",
        "      \"metadata\": {\n",
        "        \"id\": \"5dyQgHw37KXM\"\n",
        "      },\n",
        "      \"outputs\": [],\n",
        "      \"source\": [\n",
        "        \"<html>\\n\",\n",
        "        \"   <head>\\n\",\n",
        "        \"       <title>HTML forms</title>\\n\",\n",
        "        \"       <style type=\\\"text/css\\\" > \\n\",\n",
        "        \"       h2{\\n\",\n",
        "        \"           font-family:elephant;\\n\",\n",
        "        \"           background-color: aqua;\\n\",\n",
        "        \"           padding-left: 50%;\\n\",\n",
        "        \"       }\\n\",\n",
        "        \"       form {\\n\",\n",
        "        \"           padding: 20px;\\n\",\n",
        "        \"       } \\n\",\n",
        "        \"      #name {\\n\",\n",
        "        \"           margin-left:17px;\\n\",\n",
        "        \"       }\\n\",\n",
        "        \"     #qualification{\\n\",\n",
        "        \"margin-left: 17px;\\n\",\n",
        "        \"}\\n\",\n",
        "        \"     #email {\\n\",\n",
        "        \"           margin-left: 12px;\\n\",\n",
        "        \"       }\\n\",\n",
        "        \"       #age {\\n\",\n",
        "        \"           margin-left: 30px;\\n\",\n",
        "        \"      }      \\n\",\n",
        "        \"        </style>\\n\",\n",
        "        \"   </head>\\n\",\n",
        "        \"<body>\\n\",\n",
        "        \"<h2>HTML Forms</h2>\\n\",\n",
        "        \"<form  action=\\\"#\\\">\\n\",\n",
        "        \" <label for=\\\"fname\\\">Name:</label>\\n\",\n",
        "        \" <input type=\\\"text\\\" id=\\\"name\\\" name=\\\"name\\\" placeholder=\\\"Name\\\"><br><br>\\n\",\n",
        "        \" <label for=\\\"qualification\\\">Qualification:</label>\\n\",\n",
        "        \" <input type=\\\"text\\\" id=\\\"qualification\\\" name=\\\"qualification\\\" placeholder=\\\"Qualification\\\"><br><br>\\n\",\n",
        "        \" <label for=\\\"email\\\">E-mail:</label>\\n\",\n",
        "        \" <input type=\\\"text\\\" id=\\\"email\\\" name=\\\"email\\\" placeholder=\\\"E-mail\\\" ><br><br>\\n\",\n",
        "        \" <label for=\\\"age\\\">Age:</label>\\n\",\n",
        "        \" <input type=\\\"text\\\" id=\\\"age\\\" name=\\\"age\\\" placeholder=\\\"Age\\\" ><br><br>\\n\",\n",
        "        \" <input type=\\\"submit\\\" value=\\\"Submit\\\">\\n\",\n",
        "        \"</form>  \\n\",\n",
        "        \"<p>If you click the \\\"Submit\\\" button, the page will be redirect to this page itself.</p>\\n\",\n",
        "        \"</body>\\n\",\n",
        "        \"</html>\\n\",\n",
        "        \"\\n\"\n",
        "      ]\n",
        "    }\n",
        "  ]\n",
        "}\n"
      ],
      "metadata": {
        "id": "3J3wx9499tSA"
      },
      "execution_count": null,
      "outputs": []
    },
    {
      "cell_type": "markdown",
      "source": [],
      "metadata": {
        "id": "4m7tS4gZ9xLk"
      }
    },
    {
      "cell_type": "code",
      "source": [],
      "metadata": {
        "id": "30NwWNEZ9xtH"
      },
      "execution_count": null,
      "outputs": []
    }
  ]
}